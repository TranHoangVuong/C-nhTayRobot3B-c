{
  "nbformat": 4,
  "nbformat_minor": 0,
  "metadata": {
    "colab": {
      "name": "CanhTayRobot3Bac.ipynb",
      "provenance": []
    },
    "kernelspec": {
      "name": "python3",
      "display_name": "Python 3"
    },
    "language_info": {
      "name": "python"
    }
  },
  "cells": [
    {
      "cell_type": "code",
      "execution_count": null,
      "metadata": {
        "id": "ZEAqFP_enUEP"
      },
      "outputs": [],
      "source": [
        "from math import cos, sin, pi\n",
        "from pandas import DataFrame\n",
        "import numpy as np\n",
        "\n",
        "theta1 = []\n",
        "theta2 = []\n",
        "theta3 = []\n",
        "px = []\n",
        "py = []\n",
        "alpha = []\n",
        "\n",
        "l1 = 40\n",
        "l2 = 50\n",
        "l3 = 20\n",
        "\n",
        "for i1 in range (0,80*2):\n",
        "    for i2 in range (0,170*2):\n",
        "      for i3 in range (0,50*2):\n",
        "        t1 = i1/2\n",
        "        t2 = i2/2\n",
        "        t3 = i3/2\n",
        "        theta1.append(t1)\n",
        "        theta2.append(t2)\n",
        "        theta3.append(t3)\n",
        "        px.append(round(l1*cos(t1*pi/180) + l2*cos((t1+t2)*pi/180)+l3*cos((t1+t2+t3)*pi/180),2))\n",
        "        py.append(round(l1*sin(t1*pi/180) + l2*sin((t1+t2)*pi/180)+l3*sin((t1+t2+t3)*pi/180),2))\n",
        "        alpha.append(t1+t2+t3)\n",
        "df = DataFrame(np.c_[theta1,theta2,theta3,px,py,alpha],columns = ['theta1','theta2','theta3','px','py','alpha'])\n",
        "export_csv = df.to_csv (r'2axis_robot_medium.csv', index = None, header=True)"
      ]
    },
    {
      "cell_type": "code",
      "source": [
        "from google.colab import files\n",
        "upload = files.upload()"
      ],
      "metadata": {
        "id": "GwSrIuUGP-OD"
      },
      "execution_count": null,
      "outputs": []
    },
    {
      "cell_type": "code",
      "source": [
        "\n",
        "import sklearn\n",
        "import matplotlib.pyplot as plt\n",
        "from keras.utils import np_utils\n",
        "import keras\n",
        "from sklearn.model_selection import train_test_split\n",
        "import pandas as pd\n",
        "\n",
        "url = '2axis_robot_medium (1).csv'\n",
        "data = pd.read_csv(url)\n",
        "\n",
        "dataX = data.drop(data.columns[:3],axis=1)\n",
        "X = dataX.values.tolist()\n",
        "\n",
        "dataY = data.drop(data.columns[3:],axis=1)\n",
        "Y = dataY.values.tolist()\n",
        "X_train, X_test, Y_train, Y_test = train_test_split(dataX,dataY,test_size = 0.2,random_state=7)\n",
        "\n",
        "Y_train = np.array(Y_train)\n",
        "Y_test = np.array(Y_test)\n",
        "X_train = np.array(X_train)\n",
        "X_test = np.array(X_test)\n",
        "#tạo mô hình\n",
        "\n",
        "from keras.models import Sequential\n",
        "from keras.layers import Dense, Activation,Dropout\n",
        "from tensorflow.keras.optimizers import RMSprop\n",
        "\n",
        "model = Sequential()\n",
        "model.add(Dense(256,kernel_initializer='normal', activation='relu',input_shape=(3,)))\n",
        "model.add(Dense(256,activation='relu'))\n",
        "\n",
        "model.add(Dense(64,activation='relu'))\n",
        "model.add(Dense(3))\n",
        "model.summary()\n",
        "model.compile(loss='mse',optimizer=RMSprop(),metrics=['mean_absolute_error'])\n",
        "history = model.fit(X_train, Y_train,  batch_size=128, epochs=50, verbose=1, validation_split=0.2)\n",
        "score = model.evaluate(X_test, Y_test, verbose=0)\n",
        "print('Sai số kiểm tra là : ', score[0])\n",
        "print('độ chính xác kiểm tra',score[1])"
      ],
      "metadata": {
        "id": "ccSQOZHlS7Jf",
        "colab": {
          "base_uri": "https://localhost:8080/"
        },
        "outputId": "6f69c100-244c-4db1-9fa3-925a82ce7595"
      },
      "execution_count": null,
      "outputs": [
        {
          "output_type": "stream",
          "name": "stdout",
          "text": [
            "Model: \"sequential_1\"\n",
            "_________________________________________________________________\n",
            " Layer (type)                Output Shape              Param #   \n",
            "=================================================================\n",
            " dense_4 (Dense)             (None, 256)               1024      \n",
            "                                                                 \n",
            " dense_5 (Dense)             (None, 256)               65792     \n",
            "                                                                 \n",
            " dense_6 (Dense)             (None, 64)                16448     \n",
            "                                                                 \n",
            " dense_7 (Dense)             (None, 3)                 195       \n",
            "                                                                 \n",
            "=================================================================\n",
            "Total params: 83,459\n",
            "Trainable params: 83,459\n",
            "Non-trainable params: 0\n",
            "_________________________________________________________________\n",
            "Epoch 1/50\n",
            "27200/27200 [==============================] - 137s 5ms/step - loss: 66.5613 - mean_absolute_error: 5.8582 - val_loss: 12.1560 - val_mean_absolute_error: 2.6953\n",
            "Epoch 2/50\n",
            "27200/27200 [==============================] - 116s 4ms/step - loss: 19.4562 - mean_absolute_error: 3.3319 - val_loss: 7.7248 - val_mean_absolute_error: 2.0517\n",
            "Epoch 3/50\n",
            "27200/27200 [==============================] - 121s 4ms/step - loss: 16.0794 - mean_absolute_error: 3.0041 - val_loss: 15.4469 - val_mean_absolute_error: 3.2894\n",
            "Epoch 4/50\n",
            "27200/27200 [==============================] - 121s 4ms/step - loss: 14.4808 - mean_absolute_error: 2.8472 - val_loss: 6.7320 - val_mean_absolute_error: 1.9683\n",
            "Epoch 5/50\n",
            "27200/27200 [==============================] - 125s 5ms/step - loss: 13.3555 - mean_absolute_error: 2.7272 - val_loss: 26.3208 - val_mean_absolute_error: 4.0499\n",
            "Epoch 6/50\n",
            "27200/27200 [==============================] - 120s 4ms/step - loss: 12.5114 - mean_absolute_error: 2.6302 - val_loss: 8.4763 - val_mean_absolute_error: 2.1095\n",
            "Epoch 7/50\n",
            "27200/27200 [==============================] - 123s 5ms/step - loss: 11.8510 - mean_absolute_error: 2.5576 - val_loss: 8.8008 - val_mean_absolute_error: 2.2079\n",
            "Epoch 8/50\n",
            "27200/27200 [==============================] - 121s 4ms/step - loss: 11.3041 - mean_absolute_error: 2.4946 - val_loss: 18.2967 - val_mean_absolute_error: 3.4755\n",
            "Epoch 9/50\n",
            "27200/27200 [==============================] - 121s 4ms/step - loss: 10.8710 - mean_absolute_error: 2.4421 - val_loss: 15.1293 - val_mean_absolute_error: 3.1478\n",
            "Epoch 10/50\n",
            "27200/27200 [==============================] - 121s 4ms/step - loss: 10.5027 - mean_absolute_error: 2.3916 - val_loss: 4.7751 - val_mean_absolute_error: 1.5715\n",
            "Epoch 11/50\n",
            "27200/27200 [==============================] - 125s 5ms/step - loss: 10.1869 - mean_absolute_error: 2.3491 - val_loss: 10.2814 - val_mean_absolute_error: 2.4281\n",
            "Epoch 12/50\n",
            "27200/27200 [==============================] - 119s 4ms/step - loss: 9.8733 - mean_absolute_error: 2.3067 - val_loss: 10.4725 - val_mean_absolute_error: 2.4394\n",
            "Epoch 13/50\n",
            "27200/27200 [==============================] - 121s 4ms/step - loss: 9.6077 - mean_absolute_error: 2.2711 - val_loss: 5.0937 - val_mean_absolute_error: 1.6455\n",
            "Epoch 14/50\n",
            "27200/27200 [==============================] - 119s 4ms/step - loss: 9.3629 - mean_absolute_error: 2.2369 - val_loss: 7.8651 - val_mean_absolute_error: 2.1804\n",
            "Epoch 15/50\n",
            "27200/27200 [==============================] - 131s 5ms/step - loss: 9.1389 - mean_absolute_error: 2.2101 - val_loss: 10.4240 - val_mean_absolute_error: 2.2880\n",
            "Epoch 16/50\n",
            "27200/27200 [==============================] - 123s 5ms/step - loss: 8.9510 - mean_absolute_error: 2.1861 - val_loss: 6.2491 - val_mean_absolute_error: 1.8825\n",
            "Epoch 17/50\n",
            "27200/27200 [==============================] - 122s 4ms/step - loss: 8.7482 - mean_absolute_error: 2.1588 - val_loss: 3.7445 - val_mean_absolute_error: 1.3482\n",
            "Epoch 18/50\n",
            "27200/27200 [==============================] - 122s 4ms/step - loss: 8.5461 - mean_absolute_error: 2.1367 - val_loss: 5.4570 - val_mean_absolute_error: 1.8809\n",
            "Epoch 19/50\n",
            "27200/27200 [==============================] - 122s 4ms/step - loss: 8.3121 - mean_absolute_error: 2.1074 - val_loss: 9.2322 - val_mean_absolute_error: 2.2268\n",
            "Epoch 20/50\n",
            "27200/27200 [==============================] - 121s 4ms/step - loss: 8.1226 - mean_absolute_error: 2.0805 - val_loss: 4.5493 - val_mean_absolute_error: 1.5610\n",
            "Epoch 21/50\n",
            "27200/27200 [==============================] - 121s 4ms/step - loss: 7.9274 - mean_absolute_error: 2.0571 - val_loss: 5.0940 - val_mean_absolute_error: 1.7311\n",
            "Epoch 22/50\n",
            "27200/27200 [==============================] - 120s 4ms/step - loss: 7.7662 - mean_absolute_error: 2.0290 - val_loss: 4.6035 - val_mean_absolute_error: 1.5773\n",
            "Epoch 23/50\n",
            "27200/27200 [==============================] - 120s 4ms/step - loss: 7.6148 - mean_absolute_error: 2.0166 - val_loss: 8.3976 - val_mean_absolute_error: 2.0950\n",
            "Epoch 24/50\n",
            "27200/27200 [==============================] - 119s 4ms/step - loss: 7.4471 - mean_absolute_error: 1.9928 - val_loss: 3.8169 - val_mean_absolute_error: 1.3895\n",
            "Epoch 25/50\n",
            "27200/27200 [==============================] - 118s 4ms/step - loss: 7.2945 - mean_absolute_error: 1.9701 - val_loss: 6.3037 - val_mean_absolute_error: 1.8759\n",
            "Epoch 26/50\n",
            "27200/27200 [==============================] - 119s 4ms/step - loss: 7.1621 - mean_absolute_error: 1.9507 - val_loss: 5.3724 - val_mean_absolute_error: 1.7170\n",
            "Epoch 27/50\n",
            "27200/27200 [==============================] - 121s 4ms/step - loss: 7.0200 - mean_absolute_error: 1.9287 - val_loss: 4.5544 - val_mean_absolute_error: 1.6282\n",
            "Epoch 28/50\n",
            "27200/27200 [==============================] - 120s 4ms/step - loss: 6.9009 - mean_absolute_error: 1.9070 - val_loss: 2.2553 - val_mean_absolute_error: 0.9273\n",
            "Epoch 29/50\n",
            "27200/27200 [==============================] - 120s 4ms/step - loss: 6.7957 - mean_absolute_error: 1.8956 - val_loss: 4.1121 - val_mean_absolute_error: 1.6004\n",
            "Epoch 30/50\n",
            "27200/27200 [==============================] - 122s 4ms/step - loss: 6.6973 - mean_absolute_error: 1.8757 - val_loss: 3.8607 - val_mean_absolute_error: 1.5181\n",
            "Epoch 31/50\n",
            "27200/27200 [==============================] - 122s 4ms/step - loss: 6.6244 - mean_absolute_error: 1.8702 - val_loss: 2.9547 - val_mean_absolute_error: 1.2551\n",
            "Epoch 32/50\n",
            "27200/27200 [==============================] - 121s 4ms/step - loss: 6.5425 - mean_absolute_error: 1.8543 - val_loss: 5.0832 - val_mean_absolute_error: 1.7409\n",
            "Epoch 33/50\n",
            "27200/27200 [==============================] - 121s 4ms/step - loss: 6.4903 - mean_absolute_error: 1.8497 - val_loss: 5.3761 - val_mean_absolute_error: 1.8371\n",
            "Epoch 34/50\n",
            "27200/27200 [==============================] - 122s 4ms/step - loss: 6.4213 - mean_absolute_error: 1.8413 - val_loss: 3.2174 - val_mean_absolute_error: 1.3934\n",
            "Epoch 35/50\n",
            "27200/27200 [==============================] - 123s 5ms/step - loss: 6.3726 - mean_absolute_error: 1.8312 - val_loss: 2.6041 - val_mean_absolute_error: 1.0791\n",
            "Epoch 36/50\n",
            "27200/27200 [==============================] - 123s 5ms/step - loss: 6.3094 - mean_absolute_error: 1.8240 - val_loss: 10.5727 - val_mean_absolute_error: 2.6404\n",
            "Epoch 37/50\n",
            "27200/27200 [==============================] - 135s 5ms/step - loss: 6.2596 - mean_absolute_error: 1.8168 - val_loss: 1.4476 - val_mean_absolute_error: 0.7249\n",
            "Epoch 38/50\n",
            "27200/27200 [==============================] - 123s 5ms/step - loss: 6.1973 - mean_absolute_error: 1.8073 - val_loss: 9.5655 - val_mean_absolute_error: 2.2351\n",
            "Epoch 39/50\n",
            "27200/27200 [==============================] - 121s 4ms/step - loss: 6.1547 - mean_absolute_error: 1.7983 - val_loss: 3.2010 - val_mean_absolute_error: 1.3508\n",
            "Epoch 40/50\n",
            "27200/27200 [==============================] - 125s 5ms/step - loss: 6.0928 - mean_absolute_error: 1.7914 - val_loss: 11.7161 - val_mean_absolute_error: 2.6533\n",
            "Epoch 41/50\n",
            "27200/27200 [==============================] - 125s 5ms/step - loss: 6.0455 - mean_absolute_error: 1.7814 - val_loss: 6.5305 - val_mean_absolute_error: 2.1618\n",
            "Epoch 42/50\n",
            "27200/27200 [==============================] - 121s 4ms/step - loss: 5.9974 - mean_absolute_error: 1.7740 - val_loss: 11.0890 - val_mean_absolute_error: 2.7013\n",
            "Epoch 43/50\n",
            "27200/27200 [==============================] - 123s 5ms/step - loss: 5.8839 - mean_absolute_error: 1.7597 - val_loss: 2.2776 - val_mean_absolute_error: 0.9969\n",
            "Epoch 44/50\n",
            "27200/27200 [==============================] - 120s 4ms/step - loss: 5.7920 - mean_absolute_error: 1.7510 - val_loss: 3.2504 - val_mean_absolute_error: 1.3533\n",
            "Epoch 45/50\n",
            "27200/27200 [==============================] - 121s 4ms/step - loss: 5.6698 - mean_absolute_error: 1.7280 - val_loss: 4.0252 - val_mean_absolute_error: 1.5934\n",
            "Epoch 46/50\n",
            "27200/27200 [==============================] - 120s 4ms/step - loss: 5.5754 - mean_absolute_error: 1.7134 - val_loss: 3.6415 - val_mean_absolute_error: 1.5195\n",
            "Epoch 47/50\n",
            "27200/27200 [==============================] - 120s 4ms/step - loss: 5.4821 - mean_absolute_error: 1.6957 - val_loss: 5.1481 - val_mean_absolute_error: 1.8397\n",
            "Epoch 48/50\n",
            "27200/27200 [==============================] - 120s 4ms/step - loss: 5.4094 - mean_absolute_error: 1.6844 - val_loss: 3.6949 - val_mean_absolute_error: 1.3571\n",
            "Epoch 49/50\n",
            "27200/27200 [==============================] - 123s 5ms/step - loss: 5.3479 - mean_absolute_error: 1.6756 - val_loss: 6.1771 - val_mean_absolute_error: 2.0833\n",
            "Epoch 50/50\n",
            "27200/27200 [==============================] - 120s 4ms/step - loss: 5.3018 - mean_absolute_error: 1.6706 - val_loss: 4.0613 - val_mean_absolute_error: 1.5583\n",
            "Sai số kiểm tra là :  4.038008689880371\n",
            "độ chính xác kiểm tra 1.5558439493179321\n"
          ]
        }
      ]
    },
    {
      "cell_type": "code",
      "source": [
        "#tạo mô hình\n",
        "\n",
        "from keras.models import Sequential\n",
        "from keras.layers import Dense, Activation,Dropout\n",
        "from tensorflow.keras.optimizers import RMSprop\n",
        "\n",
        "model = Sequential()\n",
        "model.add(Dense(256,kernel_initializer='normal', activation='relu',input_shape=(3,)))\n",
        "model.add(Dense(256,activation='relu'))\n",
        "\n",
        "model.add(Dense(64,activation='relu'))\n",
        "model.add(Dense(3))\n",
        "model.summary()\n",
        "model.compile(loss='mse',optimizer=RMSprop(),metrics=['mean_absolute_error'])\n",
        "history = model.fit(X_train, Y_train,  batch_size=128, epochs=50, verbose=1, validation_split=0.2)\n",
        "score = model.evaluate(X_test, Y_test, verbose=0)\n",
        "print('Sai số kiểm tra là : ', score[0])\n",
        "print('độ chính xác kiểm tra',score[1])"
      ],
      "metadata": {
        "id": "08NeC3WhTD5C"
      },
      "execution_count": null,
      "outputs": []
    },
    {
      "cell_type": "code",
      "source": [
        "#lưu lại mô hình \n",
        "model.save('ArmRobot3.h5')\n"
      ],
      "metadata": {
        "id": "21cbvzu3VSUW"
      },
      "execution_count": null,
      "outputs": []
    },
    {
      "cell_type": "code",
      "source": [
        "plt.figure(figsize=(8,5))\n",
        "plt.grid(True)\n",
        "plt.gca().set_ylim(0,10)\n",
        "\n",
        "plt.plot(history.history['mean_absolute_error'])\n",
        "plt.plot(history.history['val_mean_absolute_error'])\n",
        "\n",
        "plt.title('model absolute error')\n",
        "plt.ylabel('absolute_error')\n",
        "plt.xlabel('epoch')\n",
        "plt.legend(['train','validation'],loc='upper right')\n",
        "\n",
        "plt.show()"
      ],
      "metadata": {
        "id": "_8evz7phVT95",
        "colab": {
          "base_uri": "https://localhost:8080/",
          "height": 350
        },
        "outputId": "6b369570-7eda-4d3e-874f-f0d853d2e9c4"
      },
      "execution_count": null,
      "outputs": [
        {
          "output_type": "display_data",
          "data": {
            "text/plain": [
              "<Figure size 576x360 with 1 Axes>"
            ],
            "image/png": "[encoded data removed]"
          },
          "metadata": {
            "needs_background": "light"
          }
        }
      ]
    },
    {
      "cell_type": "code",
      "source": [
        "from keras import models\n",
        "import numpy as np\n",
        "\n",
        "model200 = models.load_model('ArmRobot3.h5')\n",
        "X_test_new = [[30,30,12]]\n",
        "X_test_new = np.array(X_test_new)\n",
        "y_pred = model200.predict(X_test_new)\n",
        "print(y_pred)"
      ],
      "metadata": {
        "id": "ppI8JTDrVV92",
        "colab": {
          "base_uri": "https://localhost:8080/"
        },
        "outputId": "af805506-ca00-4a6c-a95b-767379aedce6"
      },
      "execution_count": null,
      "outputs": [
        {
          "output_type": "stream",
          "name": "stdout",
          "text": [
            "[[ 18.912933 142.20332  -97.11349 ]]\n"
          ]
        }
      ]
    }
  ]
}